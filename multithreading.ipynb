{
 "cells": [
  {
   "cell_type": "markdown",
   "id": "651e6111-9027-4774-a70f-c4f1bd3fb3af",
   "metadata": {},
   "source": [
    "Q.1\n",
    "ANS : \n",
    "Multithreading in Python refers to the concurrent execution of multiple threads within a single Python process. Each thread represents a separate flow of control, allowing a program to perform multiple tasks concurrently. Multithreading is used to make better use of CPU resources and to improve the responsiveness of applications, especially in situations where some tasks can be executed independently and concurrently.\n",
    "\n",
    "The primary module used to handle threads in Python is the threading module. This module provides a high-level interface for creating and managing threads. It allows you to create, start, pause, resume, and synchronize threads easily. Here's a brief overview of some of the key components and functions in the threading module:\n",
    "\n",
    "Thread: This class represents a thread and is used to create and manage threads. You can create a new thread by subclassing Thread and overriding the run method to define the thread's behavior.\n",
    "\n",
    "start(): This method is used to start a thread's execution.\n",
    "\n",
    "join(): This method is used to wait for a thread to complete its execution. It's often used to ensure that one thread doesn't proceed until another thread has finished.\n",
    "\n",
    "Lock: The threading module provides synchronization primitives like locks to help avoid race conditions and ensure that only one thread can access a critical section of code at a time.\n",
    "\n",
    "Semaphore: A semaphore is a more advanced synchronization primitive that can be used to control access to a resource with limited capacity."
   ]
  },
  {
   "cell_type": "markdown",
   "id": "eb47fef7-f04e-4aa0-bfa4-eb251d664107",
   "metadata": {},
   "source": [
    "Q.2\n",
    "\n",
    "ANS :\n",
    "    \n",
    "    The threading module in Python is used to create and manage threads in a Python program. It provides a high-level interface for working with threads, making it easier to create concurrent programs. "
   ]
  },
  {
   "cell_type": "markdown",
   "id": "4661b87a-3184-4d8f-aae3-0edf712bbf01",
   "metadata": {},
   "source": [
    "1 . activeCount(): This function is used to determine the number of Thread objects currently alive. It returns the count of all Thread objects currently running, including the main thread. This can be useful for monitoring the status of active threads in a program."
   ]
  },
  {
   "cell_type": "markdown",
   "id": "ae014b35-a085-4793-a688-02aa0584ae52",
   "metadata": {},
   "source": [
    "2 . currentThread(): This function returns the current Thread object, which represents the thread from which it is called. You can use it to obtain information about the currently executing thread or to manipulate thread-specific data."
   ]
  },
  {
   "cell_type": "markdown",
   "id": "38c21e91-b1cd-4b3a-b784-e68dd92381f7",
   "metadata": {},
   "source": [
    "3 . enumerate(): The enumerate() function returns a list of all currently active Thread objects. It's a convenient way to get a list of all running threads and inspect their attributes."
   ]
  },
  {
   "cell_type": "markdown",
   "id": "b9b7e726-0df6-453c-af92-9683984cf7d9",
   "metadata": {},
   "source": [
    "Q.3 \n",
    "\n",
    "ANS :\n",
    "    \n",
    "    \n",
    "    1 . run(): The run() method is used to define the behavior of a thread. When you create a custom thread by subclassing the Thread class and overriding the run() method, you specify what the thread should do when it's started. The run() method encapsulates the code that will run in the thread when you call the start() method. You should override this method in your custom thread class.\n",
    "    \n",
    "    2 . start(): The start() method is used to start the execution of a thread. When you call start(), it internally calls the run() method you've defined for the thread. This method initiates the concurrent execution of the thread, allowing it to run independently of the main program or other threads.\n",
    "    \n",
    "    3 . join(): The join() method is used to wait for a thread to complete its execution before the program proceeds. It blocks the calling thread until the thread on which it's called finishes. This is often used to ensure that one thread doesn't proceed until another thread has finished its task.\n",
    "    \n",
    "    4 . isAlive(): The isAlive() method is used to check whether a thread is currently active or alive. It returns True if the thread is running or has not yet completed, and False if the thread has finished its execution.\n",
    "    \n",
    "    \n",
    "\n",
    "\n"
   ]
  },
  {
   "cell_type": "code",
   "execution_count": 4,
   "id": "56043ee9-5ce4-427b-835e-e828431d495e",
   "metadata": {},
   "outputs": [
    {
     "name": "stderr",
     "output_type": "stream",
     "text": [
      "Exception in thread Thread-8 (print_cubes):\n",
      "Traceback (most recent call last):\n",
      "  File \"/opt/conda/lib/python3.10/threading.py\", line 1016, in _bootstrap_inner\n",
      "    self.run()\n",
      "  File \"/opt/conda/lib/python3.10/threading.py\", line 953, in run\n",
      "    self._target(*self._args, **self._kwargs)\n",
      "  File \"/tmp/ipykernel_989/1002518057.py\", line 15, in print_cubes\n",
      "NameError: name 'cube' is not defined\n"
     ]
    },
    {
     "name": "stdout",
     "output_type": "stream",
     "text": [
      "square of 1 is 1\n",
      "square of 2 is 4\n",
      "square of 3 is 9\n",
      "square of 4 is 16\n",
      "square of 5 is 25\n",
      "both threads have finished \n"
     ]
    }
   ],
   "source": [
    "#Q.4 \n",
    "#ANS :\n",
    "\n",
    "import threading\n",
    "\n",
    "def print_squares():\n",
    "    for num in range(1 , 6):\n",
    "        square = num * num\n",
    "        print( f\"square of {num} is {square}\")\n",
    "        \n",
    "\n",
    "def print_cubes():\n",
    "    for num in range(1 , 6):\n",
    "        square = num * num * num\n",
    "        print( f\"cube of {num} is {cube}\")\n",
    "        \n",
    "thread1 = threading.Thread(target = print_squares)\n",
    "thread2 = threading.Thread(target= print_cubes)\n",
    "\n",
    "thread1.start()\n",
    "thread2.start()\n",
    "\n",
    "\n",
    "thread1.join()\n",
    "thread2.join()\n",
    "\n",
    "\n",
    "print(\"both threads have finished \")"
   ]
  },
  {
   "cell_type": "markdown",
   "id": "05ec0ed9-3cd9-4d6f-9ef1-2f518d98602a",
   "metadata": {},
   "source": [
    "Q.5\n",
    "\n",
    "\n",
    "ANS:\n",
    "    \n",
    "    Advantages of Multithreading:\n",
    "\n",
    "Improved Responsiveness: Multithreading can make an application more responsive because it allows tasks to be performed concurrently. This means that even if one thread is busy with a task, other threads can continue to run, ensuring that the application remains responsive to user input.\n",
    "\n",
    "Efficient Utilization of Resources: Multithreading can make efficient use of available CPU cores and resources. It allows the program to take full advantage of multicore processors, making it faster and more efficient.\n",
    "\n",
    "Modular and Maintainable Code: Multithreading allows you to write modular code where different threads can perform separate tasks independently. This can lead to cleaner, more maintainable code as you can separate concerns and manage complexity better.\n",
    "\n",
    "Parallelism: Multithreading is a way to achieve parallelism, which can significantly speed up computationally intensive tasks by dividing them into smaller subtasks that can be executed concurrently.\n",
    "\n",
    "Resource Sharing: Threads within the same process share the same memory space, which makes it easier to share data and resources between them. This can be more efficient than inter-process communication.\n",
    "\n",
    "\n",
    "Disadvantages of Multithreading:\n",
    "\n",
    "Complexity: Multithreading can introduce complexity and make code more difficult to write and debug. Managing synchronization and avoiding race conditions can be challenging.\n",
    "\n",
    "Race Conditions: Race conditions occur when multiple threads access shared resources concurrently without proper synchronization. These can lead to unpredictable and difficult-to-debug issues.\n",
    "\n",
    "Deadlocks: Deadlocks can occur when two or more threads are waiting for each other to release resources, resulting in all threads being unable to progress. Detecting and resolving deadlocks can be complex.\n",
    "\n",
    "Overhead: Threads have some overhead in terms of memory and CPU usage. Creating and managing threads consumes resources, and switching between threads can incur additional overhead.\n",
    "\n",
    "Limited Scalability: While multithreading can improve performance on multicore processors, it may not provide linear scalability. At a certain point, adding more threads may not yield significant performance gains due to contention for resources and the overhead of managing threads.\n",
    "\n",
    "Non-determinism: Multithreading can introduce non-deterministic behavior into a program. The order in which threads execute is not guaranteed, which can make debugging and testing more challenging\n",
    "    \n",
    "    \n",
    "    \n",
    "    "
   ]
  },
  {
   "cell_type": "markdown",
   "id": "04a1cd7c-5ae5-4795-8fea-8659c2eef097",
   "metadata": {},
   "source": [
    "Q.6 \n",
    "\n",
    "\n",
    "ANS :\n",
    "    \n",
    "    \n",
    "Deadlocks and race conditions are two common concurrency-related problems that can occur in multithreaded or multiprocess programs.\n",
    "\n",
    "Deadlock:\n",
    "A deadlock is a situation in which two or more threads or processes are unable to proceed because each is waiting for the other to release a resource. In other words, it's a state in which a set of processes or threads are stuck in a circular dependency, and none can make progress. Deadlocks can occur when the following conditions are met, often referred to as the \"four necessary conditions for deadlock\":\n",
    "\n",
    "Mutual Exclusion: At least one resource must be held in a mutually exclusive manner. This means only one thread or process can access the resource at a time.\n",
    "\n",
    "Hold and Wait: A process or thread must already be holding at least one resource while requesting another resource that is currently held by another process/thread.\n",
    "\n",
    "No Preemption: Resources cannot be forcibly taken away from a process/thread; they can only be released voluntarily.\n",
    "\n",
    "Circular Wait: A circular chain of two or more processes/threads exists, where each process/thread is waiting for a resource held by the next one in the chain.\n",
    "\n",
    "To resolve a deadlock, you typically need to break one or more of these conditions. Strategies for dealing with deadlocks include using timeouts, resource allocation graphs, and deadlock detection and recovery mechanisms.\n",
    "\n",
    "Race Condition:\n",
    "A race condition is a situation in which the behavior of a program depends on the relative timing of events, such as the order in which threads are scheduled to run. It occurs when two or more threads access shared data concurrently, and at least one of them modifies the data. The outcome of the program becomes unpredictable because it depends on the order in which threads execute, leading to unintended and erroneous results.\n",
    "\n",
    "Race conditions can arise when threads do not properly synchronize access to shared resources. The most common synchronization mechanisms to prevent race conditions are locks (mutexes), semaphores, and condition variables. These mechanisms ensure that only one thread can access a critical section of code at a time, preventing simultaneous access by multiple threads"
   ]
  },
  {
   "cell_type": "code",
   "execution_count": null,
   "id": "621c66fd-3660-49f7-88b0-4ff44ec098e3",
   "metadata": {},
   "outputs": [],
   "source": []
  }
 ],
 "metadata": {
  "kernelspec": {
   "display_name": "Python 3 (ipykernel)",
   "language": "python",
   "name": "python3"
  },
  "language_info": {
   "codemirror_mode": {
    "name": "ipython",
    "version": 3
   },
   "file_extension": ".py",
   "mimetype": "text/x-python",
   "name": "python",
   "nbconvert_exporter": "python",
   "pygments_lexer": "ipython3",
   "version": "3.10.8"
  }
 },
 "nbformat": 4,
 "nbformat_minor": 5
}
